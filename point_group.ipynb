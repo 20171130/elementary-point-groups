{
 "cells": [
  {
   "cell_type": "markdown",
   "id": "f4b972b3-6cea-4606-8f3b-c60fef435839",
   "metadata": {},
   "source": [
    "A simple ad-hoc implementation for computing point group matrices based on libmsysm. Currently, only groups without reflection are supported because the python interface of libmsysm is quite inconvenient for implementing such functions. It is essentially constructing inputs to cheat a rigid high-level interface to recover a low-level interface. Exposing the low-level functionalities directly would be much more elegant.\n",
    "\n",
    "Author: Hangrui Bi\n",
    "No rights reserved."
   ]
  },
  {
   "cell_type": "markdown",
   "id": "1d4481b7-3f87-43e0-8fcf-ab5cd0498a3d",
   "metadata": {},
   "source": [
    "# libmsysm"
   ]
  },
  {
   "cell_type": "code",
   "execution_count": null,
   "id": "6c5a8f87-8c60-4780-9481-30198780d969",
   "metadata": {},
   "outputs": [],
   "source": [
    "import libmsym as msym\n",
    "import numpy as np"
   ]
  },
  {
   "cell_type": "code",
   "execution_count": null,
   "id": "ace6ea5e-6f90-4970-9aa3-82400c040892",
   "metadata": {},
   "outputs": [],
   "source": [
    "gen_elements = [msym.Element(name = \"C\", coordinates = [1.443524, 0.0,0.0])]\n",
    "elements = [msym.Element(name = \"C\", coordinates = map(float, (0, 0, 0)))] # symmetry center\n",
    "ctx = msym.Context(elements = elements, point_group='D4')\n",
    "gen_elements = ctx.generate_elements(gen_elements)\n",
    "for item in gen_elements:\n",
    "    print(item.coordinates)"
   ]
  },
  {
   "cell_type": "code",
   "execution_count": null,
   "id": "951e5c79-e212-4401-982d-126c6a50a3c4",
   "metadata": {},
   "outputs": [],
   "source": [
    "ctx.symmetry_operations "
   ]
  },
  {
   "cell_type": "markdown",
   "id": "58f152c8-b809-4fe0-837e-89d8355e39a1",
   "metadata": {},
   "source": [
    "# Wrappers"
   ]
  },
  {
   "cell_type": "code",
   "execution_count": null,
   "id": "6f882380-eded-4c74-b828-3903b337698a",
   "metadata": {},
   "outputs": [],
   "source": [
    "import pdb\n",
    "def trajectory(points, group, center=np.array([0.,0.,0.])):\n",
    "    eps = 1e-12\n",
    "    points = points + np.random.randn(*points.shape)*eps\n",
    "    # ad hoc method to bypass equivalence set\n",
    "    assert(len(points.shape) == 2)\n",
    "    n_points = points.shape[0]\n",
    "    elements = [msym.Element(name = \"C\")] \n",
    "    gen_elements = [msym.Element(name = \"C\", coordinates = list(points[i]-center)) for i in range(n_points)]\n",
    "    # notice that for C and D, the molecules zero-centerd along the symmetry axis\n",
    "    with msym.Context(elements=elements, point_group=group) as ctx:\n",
    "        ctx.set_thresholds(permutation=1e-15)\n",
    "        order = len(ctx.symmetry_operations)\n",
    "        traj = []\n",
    "        for i in range(n_points):\n",
    "            offset = center\n",
    "            if 'C' in group:\n",
    "                offset = offset + (points[i]-center)*np.array([0., 0., 1.])\n",
    "            tmp = [np.array(item.coordinates) + offset for item in ctx.generate_elements([gen_elements[i]])]\n",
    "            traj += tmp\n",
    "    result = []\n",
    "    for i in range(order):\n",
    "        result += [np.stack([traj[j*order+i] for j in range(n_points)])]\n",
    "    return result\n",
    "\n",
    "def rotationMatrices(group):\n",
    "    \"\"\" Outputs the rotaition matrices given a group \"\"\"\n",
    "    points = np.eye((3))\n",
    "    result = trajectory(points, group)\n",
    "    return result"
   ]
  },
  {
   "cell_type": "markdown",
   "id": "18541907-932c-44c9-b965-a268c6fbe69f",
   "metadata": {},
   "source": [
    "# Test"
   ]
  },
  {
   "cell_type": "code",
   "execution_count": null,
   "id": "3f5f36f0-74b7-4d60-b18b-dedfc172d3e2",
   "metadata": {},
   "outputs": [],
   "source": [
    "group = 'C4' # choose from [Cn, Dn, T, O, I], currently reflections are not supported \n",
    "atol = 1e-6"
   ]
  },
  {
   "cell_type": "code",
   "execution_count": null,
   "id": "9be93c74-76ef-47f6-847c-311375e9fb91",
   "metadata": {},
   "outputs": [],
   "source": [
    "# preserves center\n",
    "center = np.random.randn(1, 3)\n",
    "tmp = trajectory(center, group, center[0])\n",
    "for item in tmp:\n",
    "    assert np.allclose(item, center, atol=atol)"
   ]
  },
  {
   "cell_type": "code",
   "execution_count": null,
   "id": "5df9e8c2-6ece-4176-9e8a-ff3e92c22fb2",
   "metadata": {},
   "outputs": [],
   "source": [
    "# preserves norm\n",
    "center = np.random.randn(1, 3)\n",
    "point = np.random.randn(1, 3)\n",
    "tmp = trajectory(point, group, center[0])\n",
    "for item in tmp:\n",
    "    assert np.allclose(np.linalg.norm(item-center), np.linalg.norm(point[0]-center), atol=atol)"
   ]
  },
  {
   "cell_type": "code",
   "execution_count": null,
   "id": "d1c0e6ca-2d05-41b1-b707-715e2afecea5",
   "metadata": {},
   "outputs": [],
   "source": [
    "# closed under inversion\n",
    "tmp = rotationMatrices(group)\n",
    "order = len(tmp)\n",
    "for i in range(order):\n",
    "    flag = False\n",
    "    for j in range(order):\n",
    "        if np.allclose(tmp[i]@tmp[j], np.eye(3), atol=atol):\n",
    "            flag = True\n",
    "    assert flag, i"
   ]
  },
  {
   "cell_type": "code",
   "execution_count": null,
   "id": "9cf70ed6-d892-44c1-a4f3-35f722531fa6",
   "metadata": {},
   "outputs": [],
   "source": [
    "# closed under multiplication\n",
    "tmp = rotationMatrices(group)\n",
    "order = len(tmp)\n",
    "for i in range(order):\n",
    "    for j in range(order):\n",
    "        flag = False\n",
    "        for k in range(order):\n",
    "            if np.allclose(tmp[i]@tmp[j], tmp[k], atol=atol):\n",
    "                flag = True\n",
    "        assert flag, (i, j)"
   ]
  }
 ],
 "metadata": {
  "kernelspec": {
   "display_name": "Python 3",
   "language": "python",
   "name": "python3"
  },
  "language_info": {
   "codemirror_mode": {
    "name": "ipython",
    "version": 3
   },
   "file_extension": ".py",
   "mimetype": "text/x-python",
   "name": "python",
   "nbconvert_exporter": "python",
   "pygments_lexer": "ipython3",
   "version": "3.8.12"
  }
 },
 "nbformat": 4,
 "nbformat_minor": 5
}
